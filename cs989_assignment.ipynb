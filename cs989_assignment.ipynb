{
  "nbformat": 4,
  "nbformat_minor": 0,
  "metadata": {
    "colab": {
      "provenance": [],
      "authorship_tag": "ABX9TyNsJkiIL6YF3FNBTOB0og1K",
      "include_colab_link": true
    },
    "kernelspec": {
      "name": "python3",
      "display_name": "Python 3"
    },
    "language_info": {
      "name": "python"
    }
  },
  "cells": [
    {
      "cell_type": "markdown",
      "metadata": {
        "id": "view-in-github",
        "colab_type": "text"
      },
      "source": [
        "<a href=\"https://colab.research.google.com/github/AhmedB255/CS989_Big_Data_Project/blob/main/cs989_assignment.ipynb\" target=\"_parent\"><img src=\"https://colab.research.google.com/assets/colab-badge.svg\" alt=\"Open In Colab\"/></a>"
      ]
    },
    {
      "cell_type": "markdown",
      "source": [
        "# Introduction"
      ],
      "metadata": {
        "id": "NL33uJDOM0c1"
      }
    },
    {
      "cell_type": "markdown",
      "source": [
        "# Exploratory Data Analysis"
      ],
      "metadata": {
        "id": "Vj5gDaN5NTaG"
      }
    },
    {
      "cell_type": "markdown",
      "source": [
        "**Importing the Libraries**"
      ],
      "metadata": {
        "id": "KAUwdkMYRjiF"
      }
    },
    {
      "cell_type": "markdown",
      "source": [
        "**Data Collection**"
      ],
      "metadata": {
        "id": "qrV_MkiUNY_s"
      }
    },
    {
      "cell_type": "markdown",
      "source": [
        "**Data Understanding**"
      ],
      "metadata": {
        "id": "Ar3yFjwINnKd"
      }
    },
    {
      "cell_type": "markdown",
      "source": [
        "**Exploratory Visualization**"
      ],
      "metadata": {
        "id": "uJ8ABaWpOJX3"
      }
    },
    {
      "cell_type": "markdown",
      "source": [
        "# Data Preprocessing"
      ],
      "metadata": {
        "id": "kQbVLxIVOWHl"
      }
    },
    {
      "cell_type": "markdown",
      "source": [
        "**Data Cleaning**"
      ],
      "metadata": {
        "id": "yfhSgmK5OdON"
      }
    },
    {
      "cell_type": "markdown",
      "source": [
        "**Data Reduction (if necessary)**"
      ],
      "metadata": {
        "id": "cHxwroHNOigs"
      }
    },
    {
      "cell_type": "markdown",
      "source": [
        "# Data Modelling"
      ],
      "metadata": {
        "id": "NzB9nmsAOuh1"
      }
    },
    {
      "cell_type": "markdown",
      "source": [
        "**Choosing the Supervised Machine Learning Model**"
      ],
      "metadata": {
        "id": "cfqcaAXHO3Fl"
      }
    },
    {
      "cell_type": "markdown",
      "source": [
        "**Choosing the Unsupervised Machine Learning Model**"
      ],
      "metadata": {
        "id": "5YaJXaMMO_vL"
      }
    },
    {
      "cell_type": "markdown",
      "source": [
        "**Splitting the Dataset**"
      ],
      "metadata": {
        "id": "KfWxS9Y5PHL8"
      }
    },
    {
      "cell_type": "markdown",
      "source": [
        "**Fitting the Supervised Model to the Training Dataset**"
      ],
      "metadata": {
        "id": "iF0eepXAPHT1"
      }
    },
    {
      "cell_type": "markdown",
      "source": [
        "**Fitting the Unsupervised Model to the Training Dataset**"
      ],
      "metadata": {
        "id": "3p3dcBjrPHbl"
      }
    },
    {
      "cell_type": "markdown",
      "source": [
        "**Testing the Accuracy of Both Models**"
      ],
      "metadata": {
        "id": "aNK3S0M9PHjt"
      }
    },
    {
      "cell_type": "markdown",
      "source": [
        "**Discussion**"
      ],
      "metadata": {
        "id": "48vnkY67PH1b"
      }
    },
    {
      "cell_type": "markdown",
      "source": [
        "# Data Visualization and Insight Extraction"
      ],
      "metadata": {
        "id": "jONxl2buPH7t"
      }
    },
    {
      "cell_type": "markdown",
      "source": [
        "**Visualization #1**"
      ],
      "metadata": {
        "id": "XHvf1kvERNxh"
      }
    },
    {
      "cell_type": "markdown",
      "source": [
        "**Visualization #2**"
      ],
      "metadata": {
        "id": "GPb4eeyhRN6V"
      }
    },
    {
      "cell_type": "markdown",
      "source": [
        "**Visualization #3**"
      ],
      "metadata": {
        "id": "N5m5nutkRODH"
      }
    },
    {
      "cell_type": "markdown",
      "source": [
        "**Discussion**"
      ],
      "metadata": {
        "id": "X5QNU0jhROpO"
      }
    }
  ]
}